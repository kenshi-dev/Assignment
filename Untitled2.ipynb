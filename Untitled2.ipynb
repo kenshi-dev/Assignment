{
  "nbformat": 4,
  "nbformat_minor": 0,
  "metadata": {
    "colab": {
      "provenance": [],
      "authorship_tag": "ABX9TyNem6UKusRQMKqIkwe1+9yA",
      "include_colab_link": true
    },
    "kernelspec": {
      "name": "python3",
      "display_name": "Python 3"
    },
    "language_info": {
      "name": "python"
    }
  },
  "cells": [
    {
      "cell_type": "markdown",
      "metadata": {
        "id": "view-in-github",
        "colab_type": "text"
      },
      "source": [
        "<a href=\"https://colab.research.google.com/github/kenshi-dev/Assignment/blob/main/Untitled2.ipynb\" target=\"_parent\"><img src=\"https://colab.research.google.com/assets/colab-badge.svg\" alt=\"Open In Colab\"/></a>"
      ]
    },
    {
      "cell_type": "code",
      "execution_count": 2,
      "metadata": {
        "id": "UCgVYcrd7gGt"
      },
      "outputs": [],
      "source": [
        "import pandas as pd\n",
        "import numpy as np\n",
        "from sklearn.model_selection import train_test_split, cross_val_score\n",
        "from sklearn.linear_model import LinearRegression\n",
        "from sklearn.metrics import mean_squared_error, r2_score\n",
        "from sklearn.preprocessing import StandardScaler, OneHotEncoder\n",
        "from sklearn.compose import ColumnTransformer\n",
        "import pickle\n",
        "import matplotlib.pyplot as plt\n",
        "import seaborn as sns\n"
      ]
    },
    {
      "cell_type": "code",
      "source": [
        "accident_data = pd.read_excel('accident.csv.xlsx')"
      ],
      "metadata": {
        "id": "JXwXvRId9Xiq"
      },
      "execution_count": 19,
      "outputs": []
    },
    {
      "cell_type": "code",
      "source": [
        "# Define the feature columns and target column\n",
        "x = ['driver experience', 'vehicle condition', 'weather', 'road condition', 'light condition']  # Replace with your actual feature columns\n",
        "y = 'accident severity'"
      ],
      "metadata": {
        "id": "iKrZegn5AIG8"
      },
      "execution_count": 26,
      "outputs": []
    },
    {
      "cell_type": "code",
      "source": [
        "# Split the data into training and testing sets\n",
        "from sklearn.model_selection import train_test_split"
      ],
      "metadata": {
        "id": "-pI-KSUEAlya"
      },
      "execution_count": 48,
      "outputs": []
    },
    {
      "cell_type": "code",
      "source": [
        "# Split the data into training and testing sets\n",
        "x = ['driver experience', 'vehicle condition', 'weather', 'road condition', 'light condition']"
      ],
      "metadata": {
        "id": "6jpLoqfgDxD_"
      },
      "execution_count": 54,
      "outputs": []
    },
    {
      "cell_type": "code",
      "source": [
        "# Initialize and train the model (assuming LinearRegression)\n",
        "model = LinearRegression()"
      ],
      "metadata": {
        "id": "pbypIAk1I2zu"
      },
      "execution_count": 58,
      "outputs": []
    }
  ]
}