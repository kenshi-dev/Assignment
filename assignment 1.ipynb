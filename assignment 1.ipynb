{
 "cells": [
  {
   "cell_type": "code",
   "execution_count": null,
   "metadata": {},
   "outputs": [],
   "source": [
    "import matplotlib.pyplot as plt\n",
    "import numpy as np\n",
    "\n",
    "# Data\n",
    "months = ['07/2019', '08/2019', '09/2019', '10/2019', '11/2019']\n",
    "searches = [50, 39, 47, 42, 51]\n",
    "direct = [70, 53, 59, 56, 62]\n",
    "social_media = [80, 80, 90, 87, 92]\n",
    "\n",
    "# Plotting\n",
    "width = 0.2  # Width of each bar\n",
    "x = np.arange(len(months))  # the label locations\n",
    "\n",
    "fig, ax = plt.subplots(figsize=(10, 6))  # Adjust figure size for better visualization\n",
    "\n",
    "rects1 = ax.bar(x - width, searches, width, label='Searches', color='#4CB6CB') # Cyan-Blue\n",
    "rects2 = ax.bar(x, direct, width, label='Direct', color='#9D65C9') # Purple\n",
    "rects3 = ax.bar(x + width, social_media, width, label='Social Media', color='#F9AA33') # Gold\n",
    "\n",
    "# Add labels, title, and legend\n",
    "ax.set_ylabel('visitors\\nin thousands', fontsize=12)\n",
    "ax.set_title('Visitors by web traffic sources', fontsize=14)\n",
    "ax.set_xticks(x)\n",
    "ax.set_xticklabels(months)\n",
    "ax.legend(fontsize=10)\n",
    "\n",
    "# Add data labels on top of bars\n",
    "def autolabel(rects):\n",
    "    for rect in rects:\n",
    "        height = rect.get_height()\n",
    "        ax.annotate('{}'.format(height),\n",
    "                    xy=(rect.get_x() + rect.get_width() / 2, height),\n",
    "                    xytext=(0, 3),  # 3 points vertical offset\n",
    "                    textcoords=\"offset points\",\n",
    "                    ha='center', va='bottom',\n",
    "                    fontsize=10)\n",
    "\n",
    "autolabel(rects1)\n",
    "autolabel(rects2)\n",
    "autolabel(rects3)\n",
    "\n",
    "fig.tight_layout() # Adjust layout to prevent labels from overlapping\n",
    "plt.ylim(0, 105) # Set y-axis limit for better visualization\n",
    "plt.show()"
   ]
  }
 ],
 "metadata": {
  "language_info": {
   "name": "python"
  }
 },
 "nbformat": 4,
 "nbformat_minor": 2
}
